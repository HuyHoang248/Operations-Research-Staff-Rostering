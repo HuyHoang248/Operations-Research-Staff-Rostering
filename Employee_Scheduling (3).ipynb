{
  "nbformat": 4,
  "nbformat_minor": 0,
  "metadata": {
    "colab": {
      "provenance": []
    },
    "kernelspec": {
      "name": "python3",
      "display_name": "Python 3"
    },
    "language_info": {
      "name": "python"
    }
  },
  "cells": [
    {
      "cell_type": "code",
      "metadata": {
        "id": "4AC-VgXpGN3I"
      },
      "source": [
        "#pip install --upgrade --user ortools"
      ],
      "execution_count": null,
      "outputs": []
    },
    {
      "cell_type": "code",
      "metadata": {
        "id": "gZ2ZgXkfJPVd"
      },
      "source": [
        "from ortools.sat.python import cp_model"
      ],
      "execution_count": null,
      "outputs": []
    },
    {
      "cell_type": "code",
      "metadata": {
        "id": "Vw9p8ihQGck3"
      },
      "source": [
        "# Variables\n",
        "\n",
        "staff_name = ['A_SAC', 'B_SAC', 'C_SAC', 'D_SAC', 'A_AC1', 'A_AC2', 'A_AC3', 'B_AC1', 'B_AC2', 'B_AC3'] # 10 staff\n",
        "\n",
        "shifts_name = ['Morning', 'Afternoon', 'Night']  #0: Morning, 1: Afternoon, 2: Night\n",
        "\n",
        "days = ['Mon', 'Tue', 'Wed', 'Thur', 'Fri', 'Sat', 'Sun'] # 7 days in a week\n",
        "\n",
        "# Change to number for loop\n",
        "\n",
        "all_staff = range(len(staff_name))\n",
        "all_shifts = range(len(shifts_name))\n",
        "all_days = range(len(days))"
      ],
      "execution_count": null,
      "outputs": []
    },
    {
      "cell_type": "code",
      "metadata": {
        "colab": {
          "base_uri": "https://localhost:8080/"
        },
        "id": "oYQ5t-gUH05E",
        "outputId": "4a1cf18c-6b4b-4fbb-d046-c91dca180cf3"
      },
      "source": [
        "all_staff"
      ],
      "execution_count": null,
      "outputs": [
        {
          "output_type": "execute_result",
          "data": {
            "text/plain": [
              "range(0, 10)"
            ]
          },
          "metadata": {},
          "execution_count": 4
        }
      ]
    },
    {
      "cell_type": "code",
      "metadata": {
        "colab": {
          "base_uri": "https://localhost:8080/"
        },
        "id": "v4xZc0GwH2Qs",
        "outputId": "8afef566-5449-44ba-d2f9-9610cffde51f"
      },
      "source": [
        "all_shifts"
      ],
      "execution_count": null,
      "outputs": [
        {
          "output_type": "execute_result",
          "data": {
            "text/plain": [
              "range(0, 3)"
            ]
          },
          "metadata": {},
          "execution_count": 5
        }
      ]
    },
    {
      "cell_type": "code",
      "metadata": {
        "colab": {
          "base_uri": "https://localhost:8080/"
        },
        "id": "hD5A0Q_oH30l",
        "outputId": "1c43f501-43bc-4f0e-f439-21bbddd04cbe"
      },
      "source": [
        "all_days"
      ],
      "execution_count": null,
      "outputs": [
        {
          "output_type": "execute_result",
          "data": {
            "text/plain": [
              "range(0, 7)"
            ]
          },
          "metadata": {},
          "execution_count": 6
        }
      ]
    },
    {
      "cell_type": "code",
      "metadata": {
        "id": "n_xWLM4AH8Vw"
      },
      "source": [
        "# Model = Constraint Programming\n",
        "\n",
        "model = cp_model.CpModel()"
      ],
      "execution_count": null,
      "outputs": []
    },
    {
      "cell_type": "code",
      "metadata": {
        "id": "2M6y9PjVJYPu"
      },
      "source": [
        "# Create Outcome Variables \n",
        "# The array defines assignments for shifts to nurses as follows:\n",
        "# shifts[(n, d, s)] equals 1 if shift s is assigned to staff n on day d, and 0 otherwise.\n",
        "\n",
        "shifts = {}\n",
        "for n in all_staff:\n",
        "    for d in all_days:\n",
        "        for s in all_shifts:\n",
        "            shifts[(n, d, s)] = model.NewBoolVar('shift_n%id%is%i' % (n, d, s))"
      ],
      "execution_count": null,
      "outputs": []
    },
    {
      "cell_type": "markdown",
      "metadata": {
        "id": "foZqHoFzKBtH"
      },
      "source": [
        "Constrainst Definition"
      ]
    },
    {
      "cell_type": "markdown",
      "metadata": {
        "id": "ZUyq0EqsKJta"
      },
      "source": [
        "2 types of shifts:\n",
        "\n",
        "1.   No-Working Shift, O\n",
        "2.   Working Shift:\n",
        "\n",
        "\n",
        "> ● Morning shifts: 1M, 2M\n",
        "\n",
        "> ● Afternoon shifts: 1A, 2A\n",
        "\n",
        "> ● Night shifts: 1N, 2N\n",
        "\n"
      ]
    },
    {
      "cell_type": "code",
      "metadata": {
        "id": "DlJ3TWqcLleM"
      },
      "source": [
        "# Constraint\n",
        "# Each shift is assgined to >=1 staff per day\n",
        "\n",
        "for d in all_days:\n",
        "    for s in all_shifts:\n",
        "        model.Add(sum(shifts[(n, d, s)] for n in all_staff) >= 1)"
      ],
      "execution_count": null,
      "outputs": []
    },
    {
      "cell_type": "code",
      "metadata": {
        "id": "iVwPUDGpMLeL"
      },
      "source": [
        "# Constraint\n",
        "# Each staff only works <= 1 shift per day\n",
        "\n",
        "for n in all_staff:\n",
        "    for d in all_days:\n",
        "        model.Add(sum(shifts[(n, d, s)] for s in all_shifts) <= 1)"
      ],
      "execution_count": null,
      "outputs": []
    },
    {
      "cell_type": "code",
      "metadata": {
        "id": "S5w3M7CKKyiv"
      },
      "source": [
        "# Constraint:\n",
        "# Each Staff only <= 2 Consecutive Same Shifts\n",
        "\n",
        "for n in all_staff:\n",
        "    for d in range(len(days) - 1):\n",
        "        model.Add(sum(shifts[(n, d, s)] + shifts[(n, d + 1, s)] for s in all_shifts) <= 2)\n",
        "\n"
      ],
      "execution_count": null,
      "outputs": []
    },
    {
      "cell_type": "markdown",
      "metadata": {
        "id": "ZtyS3BweNktX"
      },
      "source": [
        "Staffs can only receive several Shifts due to their skillsets, \n",
        "i.e, Staff C_SAC can only receive shifts 1A, 2A, and 1M, 2M"
      ]
    },
    {
      "cell_type": "code",
      "metadata": {
        "id": "SyEPy6mVNOO9"
      },
      "source": [
        "# Constraint:\n",
        "# Staff C_SAC cannot receive Night Shift\n",
        "# Staff C_SAC: n = 2, Night Shift s != 2 for all day\n",
        "\n",
        "#for s in all_shifts:\n",
        "for d in range(len(days)):\n",
        "  model.Add(sum(shifts[(2, d, s)] * s for s in all_shifts ) != 2)\n",
        "\n"
      ],
      "execution_count": null,
      "outputs": []
    },
    {
      "cell_type": "markdown",
      "metadata": {
        "id": "ai25qbnB9gtP"
      },
      "source": [
        "Staff C_SAC must take one shift type (Afternoon or  Morning) in 2 consecutive days, meaning that for a window of 3 days, he cannot take off day on 2nd day (1) and  he has to work either d = 1 or d = 3 (2) and same shift type on 2nd day (3)\n",
        "\n",
        "1.   shifts (n = 2, d = 1, s) = 1\n",
        "2.   shifts (n = 2, d = 0 , s ) + shifts (n = 2, d = 2, s) = 1\n",
        "3. shifts (n = 2, d = 1, s) * s = [shifts (n = 2, d = 0 , s ) + shifts (n = 2, d = 2, s)] * s\n",
        "\n",
        "\n",
        "\n",
        "\n",
        "\n"
      ]
    },
    {
      "cell_type": "code",
      "metadata": {
        "id": "2RqZ8Z6ih2Ts",
        "colab": {
          "base_uri": "https://localhost:8080/"
        },
        "outputId": "54d50e0d-12fb-4cff-be2e-dea2b86ee26a"
      },
      "source": [
        "# Constraints:\n",
        "\n",
        "# Window 1: [day = 0 to 2]\n",
        "model.Add(sum(shifts[(2, 1, s)]  for s in all_shifts) == 1)\n",
        "model.Add(sum(shifts[(2, 0, s)] + shifts[(2, 2, s)] for s in all_shifts) == 1)\n",
        "model.Add(sum(shifts[(2, 1, s)] * s for s in all_shifts) == sum(shifts[(2, 0, s)] + shifts[(2, 2, s)] * s for s in all_shifts) )\n",
        "\n",
        "\n",
        "# Window 2: [day = 3 to 5]\n",
        "#model.Add(sum(shifts[(2, 4, s)]  for s in all_shifts) == 1)\n",
        "#model.Add(sum(shifts[(2, 3, s)] + shifts[(2, 5, s)] for s in all_shifts) == 1)\n",
        "#model.Add(sum(shifts[(2, 4, s)] * s for s in all_shifts) == sum(shifts[(2, 3, s)] + shifts[(2, 5, s)] * s for s in all_shifts) )\n",
        "\n",
        "\n",
        "# For window 2:If I set up this contraints I will violate distribute evenly thus there no solution for it.\n",
        "# We have 7 * 3 = 21 shifts * 2 (max 2 staff per shift) = 42 shifts\n",
        "# 10 staff = [21 - 42] shifts\n",
        "# 1 staff = [2 - 4] shifts for each staff. If staff C_SAT take 2 days in the window 2 ---> not enough shifts to distribute shift evenly among 10 staff over 7 days"
      ],
      "execution_count": null,
      "outputs": [
        {
          "output_type": "execute_result",
          "data": {
            "text/plain": [
              "<ortools.sat.python.cp_model.Constraint at 0x7f75e3852b90>"
            ]
          },
          "metadata": {},
          "execution_count": 13
        }
      ]
    },
    {
      "cell_type": "markdown",
      "metadata": {
        "id": "WXjZG3TrOb0m"
      },
      "source": [
        "Maximum Total Working Hours that a staff can work. You can see the Actual Total working Hours recorded in Staff Statistics on the right panel, i.e Staff A_SAC totally spends 177 Working Hours"
      ]
    },
    {
      "cell_type": "code",
      "metadata": {
        "id": "KQEr3Te3OXsZ"
      },
      "source": [
        "# Constraint:\n",
        "# Because we take the days = 7 and take assumption of maximum working hours for each staff is 5 * 8 = 40 hours and each shift = 8 hours\n",
        "# Each staff only takes 40 hours per 7 days (every week) or 5 shifts per week\n",
        "\n",
        "for n in all_staff:\n",
        "    num_shifts_worked = []\n",
        "    for d in all_days:\n",
        "        for s in all_shifts:\n",
        "            num_shifts_worked.append(shifts[(n, d, s)])\n",
        "    model.Add(sum(num_shifts_worked) <= 5)\n"
      ],
      "execution_count": null,
      "outputs": []
    },
    {
      "cell_type": "markdown",
      "metadata": {
        "id": "yKfUec5iPpS9"
      },
      "source": [
        "Requirement on total number of staffs need to work Per Day, showing in Coverage Statistics at the bottom panel, i.e., we need At Least 1 staff for Afternoon shift (either 1A or 2A)"
      ]
    },
    {
      "cell_type": "code",
      "metadata": {
        "id": "modBqfx0YgMT"
      },
      "source": [
        "# Constraint:\n",
        "# Each day for Each shift, the number of staff assigned is <= 2 \n",
        "\n",
        "for d in all_days:\n",
        "    for s in all_shifts:\n",
        "        model.Add(sum(shifts[(n, d, s)] for n in all_staff) <=2)"
      ],
      "execution_count": null,
      "outputs": []
    },
    {
      "cell_type": "code",
      "metadata": {
        "id": "WJa0JpyNPfx4"
      },
      "source": [
        "# Constraint\n",
        "# This constraint is met when \n",
        "# Each shift is assgined to >=1 staff per day\n",
        "# and \n",
        "# Each Staff only <= 2 Consecutive Same Shifts\n",
        "# No config needed for this constraint\n",
        " "
      ],
      "execution_count": null,
      "outputs": []
    },
    {
      "cell_type": "markdown",
      "metadata": {
        "id": "AQqEqm0yQJsM"
      },
      "source": [
        "Shift Patterns: there are some repeated patterns, i.e, 1M→2M→ 1N→ 2N, 1N→ 2N→ O"
      ]
    },
    {
      "cell_type": "code",
      "metadata": {
        "id": "VDrcaMOAQIy4"
      },
      "source": [
        "# Constraint\n",
        "# This is tricky. I will take the second constraint first\n",
        "# Each staff must take one day off after 2 Night shift\n",
        "# Night shift takes value of 2 in our confit in shifts --> we can take 3 consecutive days the sum of shift must less than 4\n",
        "# It can interpreted as following:\n",
        "\n",
        "# Because s can take value 0 and shifts can take value of 0 so if shift [0,1] * s[0,1,2] = 0. I cannot identify whether shift = 0 or s = 0 (Morning).\n",
        "# Therefore, I need to multiply by (s + 1). Shift [0,1] * (s + 1) [1,2,3]\n",
        "# For each staff, three consecutive day, the shifts in number must <= 6\n",
        "\n",
        "for n in all_staff:\n",
        "    for d in range(len(days) - 2):\n",
        "        model.Add(sum(shifts[(n, d, s)] + shifts[(n, d + 1, s)] + shifts[(n, d + 2, s)] * (s + 1) for s in all_shifts) <= 6)\n"
      ],
      "execution_count": null,
      "outputs": []
    },
    {
      "cell_type": "code",
      "metadata": {
        "id": "RLlNnN-SR3nn"
      },
      "source": [
        "# Constraint\n",
        "# For the pattern 2 Morning Shift then 2 Night Shift\n",
        "# For 5 consecutive days, if a staff take 2 Morning Shift in consecutive then this staff should take 2 night shift for next 2 consecutive days and then one day Off\n",
        "# Because s can take value 0 and shifts can take value of 0\n",
        "# Therefore, I need to multiply by (s + 1). Shift [0,1] * (s + 1) [1,2,3]\n",
        "# For each staff, five consecutive day, the shifts in number must <= 8\n",
        "# What if, Shift [0,1] * (s + 1) [1,2,3] = 2 for 4 consecutive days then the sum  will be = 8. \n",
        "# It means a staff can take 4 Afternoon Shift in 4 consecutive days. However we already defined constraints \n",
        "# Each Staff only <= 2 Consecutive Same Shifts so we can eliminate the 4 Afternoon Shift Each staff\n",
        "\n",
        "for n in all_staff:\n",
        "    for d in range(len(days) - 4):\n",
        "        model.Add(sum(shifts[(n, d, s)] + shifts[(n, d + 1, s)] + shifts[(n, d + 2, s)] + shifts[(n, d + 3, s)] + shifts[(n, d + 4, s)]  * (s+1) for s in all_shifts) <= 8)"
      ],
      "execution_count": null,
      "outputs": []
    },
    {
      "cell_type": "code",
      "metadata": {
        "id": "SX-f6PEqWFR7"
      },
      "source": [
        "# Constraint (this one I took from google sample )\n",
        "# The last constrait is not stated in the assignment, however it is nice to have\n",
        "# Try to distribute the shifts evenly, so that each nurse works\n",
        "# min_shifts_per_nurse shifts. If this is not possible, because the total\n",
        "# number of shifts is not divisible by the number of nurses, some nurses will\n",
        "# be assigned one more shift.\n",
        "\n",
        "num_shifts = 3\n",
        "num_days = 7\n",
        "num_staff = 10\n",
        "\n",
        "min_shifts_per_staff = (num_shifts * num_days) // num_staff\n",
        "if num_shifts * num_days % num_staff == 0:\n",
        "    max_shifts_per_staff = min_shifts_per_staff\n",
        "else:\n",
        "    max_shifts_per_staff = min_shifts_per_staff + 1\n",
        "for n in all_staff:\n",
        "    num_shifts_worked = []\n",
        "    for d in all_days:\n",
        "        for s in all_shifts:\n",
        "            num_shifts_worked.append(shifts[(n, d, s)])\n",
        "    model.Add(min_shifts_per_staff <= sum(num_shifts_worked))\n",
        "    model.Add(sum(num_shifts_worked) <= max_shifts_per_staff)"
      ],
      "execution_count": null,
      "outputs": []
    },
    {
      "cell_type": "code",
      "metadata": {
        "id": "a-G8buhnXGuv"
      },
      "source": [
        "solver = cp_model.CpSolver()\n",
        "solver.parameters.linearization_level = 0\n",
        "# Enumerate all solutions.\n",
        "solver.parameters.enumerate_all_solutions = True"
      ],
      "execution_count": null,
      "outputs": []
    },
    {
      "cell_type": "code",
      "metadata": {
        "id": "zvytSmzLXOnY"
      },
      "source": [
        "# This is Google API, I changed a litle bit\n",
        "\n",
        "class NursesPartialSolutionPrinter(cp_model.CpSolverSolutionCallback):\n",
        "    \"\"\"Print intermediate solutions.\"\"\"\n",
        "\n",
        "    def __init__(self, shifts, num_nurses, num_days, num_shifts, limit):\n",
        "        cp_model.CpSolverSolutionCallback.__init__(self)\n",
        "        self._shifts = shifts\n",
        "        self._num_nurses = num_nurses\n",
        "        self._num_days = num_days\n",
        "        self._num_shifts = num_shifts\n",
        "        self._solution_count = 0\n",
        "        self._solution_limit = limit\n",
        "\n",
        "    def on_solution_callback(self):\n",
        "        self._solution_count += 1\n",
        "        print('Solution %i' % self._solution_count)\n",
        "        for d in range(self._num_days):\n",
        "            print('Day %i' % d)\n",
        "            for n in range(self._num_nurses):\n",
        "                is_working = False\n",
        "                for s in range(self._num_shifts):\n",
        "                    if self.Value(self._shifts[(n, d, s)]):\n",
        "                        is_working = True\n",
        "                        print('  Staff %s works shift %s' % (staff_name[n], shifts_name[s]))\n",
        "                if not is_working:\n",
        "                    print('  Staff ' + staff_name[n] + ' does not work')\n",
        "        if self._solution_count >= self._solution_limit:\n",
        "            print('Stop search after %i solutions' % self._solution_limit)\n",
        "            self.StopSearch()\n",
        "\n",
        "    def solution_count(self):\n",
        "        return self._solution_count\n",
        "\n",
        "# Display the first five solutions.\n",
        "solution_limit = 5\n",
        "solution_printer = NursesPartialSolutionPrinter(shifts, num_staff, num_days, num_shifts, solution_limit)"
      ],
      "execution_count": null,
      "outputs": []
    },
    {
      "cell_type": "code",
      "metadata": {
        "colab": {
          "base_uri": "https://localhost:8080/"
        },
        "id": "8kcPV9u4XaLF",
        "outputId": "8a3afb55-4170-4248-e08c-2f2fccaaa0e1"
      },
      "source": [
        "solver.Solve(model, solution_printer)"
      ],
      "execution_count": null,
      "outputs": [
        {
          "output_type": "stream",
          "name": "stdout",
          "text": [
            "Solution 1\n",
            "Day 0\n",
            "  Staff A_SAC does not work\n",
            "  Staff B_SAC does not work\n",
            "  Staff C_SAC does not work\n",
            "  Staff D_SAC does not work\n",
            "  Staff A_AC1 works shift Morning\n",
            "  Staff A_AC2 does not work\n",
            "  Staff A_AC3 works shift Afternoon\n",
            "  Staff B_AC1 works shift Afternoon\n",
            "  Staff B_AC2 works shift Night\n",
            "  Staff B_AC3 works shift Night\n",
            "Day 1\n",
            "  Staff A_SAC does not work\n",
            "  Staff B_SAC does not work\n",
            "  Staff C_SAC works shift Afternoon\n",
            "  Staff D_SAC does not work\n",
            "  Staff A_AC1 does not work\n",
            "  Staff A_AC2 works shift Night\n",
            "  Staff A_AC3 works shift Night\n",
            "  Staff B_AC1 works shift Afternoon\n",
            "  Staff B_AC2 works shift Morning\n",
            "  Staff B_AC3 works shift Morning\n",
            "Day 2\n",
            "  Staff A_SAC does not work\n",
            "  Staff B_SAC does not work\n",
            "  Staff C_SAC works shift Afternoon\n",
            "  Staff D_SAC works shift Night\n",
            "  Staff A_AC1 does not work\n",
            "  Staff A_AC2 works shift Morning\n",
            "  Staff A_AC3 does not work\n",
            "  Staff B_AC1 does not work\n",
            "  Staff B_AC2 does not work\n",
            "  Staff B_AC3 does not work\n",
            "Day 3\n",
            "  Staff A_SAC works shift Night\n",
            "  Staff B_SAC works shift Afternoon\n",
            "  Staff C_SAC does not work\n",
            "  Staff D_SAC works shift Morning\n",
            "  Staff A_AC1 does not work\n",
            "  Staff A_AC2 does not work\n",
            "  Staff A_AC3 does not work\n",
            "  Staff B_AC1 does not work\n",
            "  Staff B_AC2 does not work\n",
            "  Staff B_AC3 does not work\n",
            "Day 4\n",
            "  Staff A_SAC works shift Afternoon\n",
            "  Staff B_SAC does not work\n",
            "  Staff C_SAC works shift Morning\n",
            "  Staff D_SAC does not work\n",
            "  Staff A_AC1 works shift Night\n",
            "  Staff A_AC2 does not work\n",
            "  Staff A_AC3 does not work\n",
            "  Staff B_AC1 does not work\n",
            "  Staff B_AC2 does not work\n",
            "  Staff B_AC3 does not work\n",
            "Day 5\n",
            "  Staff A_SAC works shift Afternoon\n",
            "  Staff B_SAC works shift Night\n",
            "  Staff C_SAC does not work\n",
            "  Staff D_SAC works shift Morning\n",
            "  Staff A_AC1 does not work\n",
            "  Staff A_AC2 does not work\n",
            "  Staff A_AC3 does not work\n",
            "  Staff B_AC1 does not work\n",
            "  Staff B_AC2 does not work\n",
            "  Staff B_AC3 does not work\n",
            "Day 6\n",
            "  Staff A_SAC does not work\n",
            "  Staff B_SAC works shift Morning\n",
            "  Staff C_SAC does not work\n",
            "  Staff D_SAC does not work\n",
            "  Staff A_AC1 does not work\n",
            "  Staff A_AC2 works shift Night\n",
            "  Staff A_AC3 does not work\n",
            "  Staff B_AC1 does not work\n",
            "  Staff B_AC2 does not work\n",
            "  Staff B_AC3 works shift Afternoon\n",
            "Solution 2\n",
            "Day 0\n",
            "  Staff A_SAC does not work\n",
            "  Staff B_SAC does not work\n",
            "  Staff C_SAC does not work\n",
            "  Staff D_SAC does not work\n",
            "  Staff A_AC1 works shift Morning\n",
            "  Staff A_AC2 does not work\n",
            "  Staff A_AC3 works shift Afternoon\n",
            "  Staff B_AC1 works shift Afternoon\n",
            "  Staff B_AC2 works shift Night\n",
            "  Staff B_AC3 works shift Night\n",
            "Day 1\n",
            "  Staff A_SAC does not work\n",
            "  Staff B_SAC does not work\n",
            "  Staff C_SAC works shift Afternoon\n",
            "  Staff D_SAC does not work\n",
            "  Staff A_AC1 does not work\n",
            "  Staff A_AC2 does not work\n",
            "  Staff A_AC3 works shift Night\n",
            "  Staff B_AC1 works shift Afternoon\n",
            "  Staff B_AC2 works shift Morning\n",
            "  Staff B_AC3 works shift Morning\n",
            "Day 2\n",
            "  Staff A_SAC does not work\n",
            "  Staff B_SAC does not work\n",
            "  Staff C_SAC works shift Afternoon\n",
            "  Staff D_SAC works shift Night\n",
            "  Staff A_AC1 does not work\n",
            "  Staff A_AC2 works shift Morning\n",
            "  Staff A_AC3 does not work\n",
            "  Staff B_AC1 does not work\n",
            "  Staff B_AC2 does not work\n",
            "  Staff B_AC3 does not work\n",
            "Day 3\n",
            "  Staff A_SAC works shift Night\n",
            "  Staff B_SAC works shift Afternoon\n",
            "  Staff C_SAC does not work\n",
            "  Staff D_SAC works shift Morning\n",
            "  Staff A_AC1 does not work\n",
            "  Staff A_AC2 does not work\n",
            "  Staff A_AC3 does not work\n",
            "  Staff B_AC1 does not work\n",
            "  Staff B_AC2 does not work\n",
            "  Staff B_AC3 does not work\n",
            "Day 4\n",
            "  Staff A_SAC works shift Afternoon\n",
            "  Staff B_SAC does not work\n",
            "  Staff C_SAC works shift Morning\n",
            "  Staff D_SAC does not work\n",
            "  Staff A_AC1 works shift Night\n",
            "  Staff A_AC2 does not work\n",
            "  Staff A_AC3 does not work\n",
            "  Staff B_AC1 does not work\n",
            "  Staff B_AC2 does not work\n",
            "  Staff B_AC3 does not work\n",
            "Day 5\n",
            "  Staff A_SAC works shift Afternoon\n",
            "  Staff B_SAC works shift Night\n",
            "  Staff C_SAC does not work\n",
            "  Staff D_SAC works shift Morning\n",
            "  Staff A_AC1 does not work\n",
            "  Staff A_AC2 does not work\n",
            "  Staff A_AC3 does not work\n",
            "  Staff B_AC1 does not work\n",
            "  Staff B_AC2 does not work\n",
            "  Staff B_AC3 does not work\n",
            "Day 6\n",
            "  Staff A_SAC does not work\n",
            "  Staff B_SAC works shift Morning\n",
            "  Staff C_SAC does not work\n",
            "  Staff D_SAC does not work\n",
            "  Staff A_AC1 does not work\n",
            "  Staff A_AC2 works shift Night\n",
            "  Staff A_AC3 does not work\n",
            "  Staff B_AC1 does not work\n",
            "  Staff B_AC2 does not work\n",
            "  Staff B_AC3 works shift Afternoon\n",
            "Solution 3\n",
            "Day 0\n",
            "  Staff A_SAC does not work\n",
            "  Staff B_SAC does not work\n",
            "  Staff C_SAC does not work\n",
            "  Staff D_SAC does not work\n",
            "  Staff A_AC1 works shift Morning\n",
            "  Staff A_AC2 works shift Morning\n",
            "  Staff A_AC3 works shift Afternoon\n",
            "  Staff B_AC1 works shift Afternoon\n",
            "  Staff B_AC2 works shift Night\n",
            "  Staff B_AC3 works shift Night\n",
            "Day 1\n",
            "  Staff A_SAC does not work\n",
            "  Staff B_SAC does not work\n",
            "  Staff C_SAC works shift Afternoon\n",
            "  Staff D_SAC does not work\n",
            "  Staff A_AC1 does not work\n",
            "  Staff A_AC2 does not work\n",
            "  Staff A_AC3 works shift Night\n",
            "  Staff B_AC1 works shift Afternoon\n",
            "  Staff B_AC2 works shift Morning\n",
            "  Staff B_AC3 works shift Morning\n",
            "Day 2\n",
            "  Staff A_SAC does not work\n",
            "  Staff B_SAC does not work\n",
            "  Staff C_SAC works shift Afternoon\n",
            "  Staff D_SAC works shift Night\n",
            "  Staff A_AC1 does not work\n",
            "  Staff A_AC2 works shift Morning\n",
            "  Staff A_AC3 does not work\n",
            "  Staff B_AC1 does not work\n",
            "  Staff B_AC2 does not work\n",
            "  Staff B_AC3 does not work\n",
            "Day 3\n",
            "  Staff A_SAC works shift Night\n",
            "  Staff B_SAC works shift Afternoon\n",
            "  Staff C_SAC does not work\n",
            "  Staff D_SAC works shift Morning\n",
            "  Staff A_AC1 does not work\n",
            "  Staff A_AC2 does not work\n",
            "  Staff A_AC3 does not work\n",
            "  Staff B_AC1 does not work\n",
            "  Staff B_AC2 does not work\n",
            "  Staff B_AC3 does not work\n",
            "Day 4\n",
            "  Staff A_SAC works shift Afternoon\n",
            "  Staff B_SAC does not work\n",
            "  Staff C_SAC works shift Morning\n",
            "  Staff D_SAC does not work\n",
            "  Staff A_AC1 works shift Night\n",
            "  Staff A_AC2 does not work\n",
            "  Staff A_AC3 does not work\n",
            "  Staff B_AC1 does not work\n",
            "  Staff B_AC2 does not work\n",
            "  Staff B_AC3 does not work\n",
            "Day 5\n",
            "  Staff A_SAC works shift Afternoon\n",
            "  Staff B_SAC works shift Night\n",
            "  Staff C_SAC does not work\n",
            "  Staff D_SAC works shift Morning\n",
            "  Staff A_AC1 does not work\n",
            "  Staff A_AC2 does not work\n",
            "  Staff A_AC3 does not work\n",
            "  Staff B_AC1 does not work\n",
            "  Staff B_AC2 does not work\n",
            "  Staff B_AC3 does not work\n",
            "Day 6\n",
            "  Staff A_SAC does not work\n",
            "  Staff B_SAC works shift Morning\n",
            "  Staff C_SAC does not work\n",
            "  Staff D_SAC does not work\n",
            "  Staff A_AC1 does not work\n",
            "  Staff A_AC2 works shift Night\n",
            "  Staff A_AC3 does not work\n",
            "  Staff B_AC1 does not work\n",
            "  Staff B_AC2 does not work\n",
            "  Staff B_AC3 works shift Afternoon\n",
            "Solution 4\n",
            "Day 0\n",
            "  Staff A_SAC does not work\n",
            "  Staff B_SAC does not work\n",
            "  Staff C_SAC does not work\n",
            "  Staff D_SAC does not work\n",
            "  Staff A_AC1 works shift Morning\n",
            "  Staff A_AC2 does not work\n",
            "  Staff A_AC3 works shift Afternoon\n",
            "  Staff B_AC1 works shift Afternoon\n",
            "  Staff B_AC2 works shift Night\n",
            "  Staff B_AC3 works shift Night\n",
            "Day 1\n",
            "  Staff A_SAC does not work\n",
            "  Staff B_SAC does not work\n",
            "  Staff C_SAC works shift Afternoon\n",
            "  Staff D_SAC does not work\n",
            "  Staff A_AC1 does not work\n",
            "  Staff A_AC2 does not work\n",
            "  Staff A_AC3 works shift Night\n",
            "  Staff B_AC1 works shift Afternoon\n",
            "  Staff B_AC2 works shift Morning\n",
            "  Staff B_AC3 works shift Morning\n",
            "Day 2\n",
            "  Staff A_SAC does not work\n",
            "  Staff B_SAC does not work\n",
            "  Staff C_SAC works shift Afternoon\n",
            "  Staff D_SAC works shift Night\n",
            "  Staff A_AC1 does not work\n",
            "  Staff A_AC2 works shift Morning\n",
            "  Staff A_AC3 does not work\n",
            "  Staff B_AC1 does not work\n",
            "  Staff B_AC2 does not work\n",
            "  Staff B_AC3 does not work\n",
            "Day 3\n",
            "  Staff A_SAC works shift Night\n",
            "  Staff B_SAC works shift Afternoon\n",
            "  Staff C_SAC does not work\n",
            "  Staff D_SAC works shift Morning\n",
            "  Staff A_AC1 does not work\n",
            "  Staff A_AC2 does not work\n",
            "  Staff A_AC3 does not work\n",
            "  Staff B_AC1 does not work\n",
            "  Staff B_AC2 does not work\n",
            "  Staff B_AC3 does not work\n",
            "Day 4\n",
            "  Staff A_SAC works shift Afternoon\n",
            "  Staff B_SAC does not work\n",
            "  Staff C_SAC works shift Morning\n",
            "  Staff D_SAC does not work\n",
            "  Staff A_AC1 works shift Night\n",
            "  Staff A_AC2 works shift Night\n",
            "  Staff A_AC3 does not work\n",
            "  Staff B_AC1 does not work\n",
            "  Staff B_AC2 does not work\n",
            "  Staff B_AC3 does not work\n",
            "Day 5\n",
            "  Staff A_SAC works shift Afternoon\n",
            "  Staff B_SAC works shift Night\n",
            "  Staff C_SAC does not work\n",
            "  Staff D_SAC works shift Morning\n",
            "  Staff A_AC1 does not work\n",
            "  Staff A_AC2 does not work\n",
            "  Staff A_AC3 does not work\n",
            "  Staff B_AC1 does not work\n",
            "  Staff B_AC2 does not work\n",
            "  Staff B_AC3 does not work\n",
            "Day 6\n",
            "  Staff A_SAC does not work\n",
            "  Staff B_SAC works shift Morning\n",
            "  Staff C_SAC does not work\n",
            "  Staff D_SAC does not work\n",
            "  Staff A_AC1 does not work\n",
            "  Staff A_AC2 works shift Night\n",
            "  Staff A_AC3 does not work\n",
            "  Staff B_AC1 does not work\n",
            "  Staff B_AC2 does not work\n",
            "  Staff B_AC3 works shift Afternoon\n",
            "Solution 5\n",
            "Day 0\n",
            "  Staff A_SAC does not work\n",
            "  Staff B_SAC does not work\n",
            "  Staff C_SAC does not work\n",
            "  Staff D_SAC does not work\n",
            "  Staff A_AC1 works shift Morning\n",
            "  Staff A_AC2 does not work\n",
            "  Staff A_AC3 works shift Afternoon\n",
            "  Staff B_AC1 works shift Afternoon\n",
            "  Staff B_AC2 works shift Night\n",
            "  Staff B_AC3 works shift Night\n",
            "Day 1\n",
            "  Staff A_SAC does not work\n",
            "  Staff B_SAC does not work\n",
            "  Staff C_SAC works shift Afternoon\n",
            "  Staff D_SAC does not work\n",
            "  Staff A_AC1 does not work\n",
            "  Staff A_AC2 does not work\n",
            "  Staff A_AC3 works shift Night\n",
            "  Staff B_AC1 works shift Afternoon\n",
            "  Staff B_AC2 works shift Morning\n",
            "  Staff B_AC3 does not work\n",
            "Day 2\n",
            "  Staff A_SAC does not work\n",
            "  Staff B_SAC does not work\n",
            "  Staff C_SAC works shift Afternoon\n",
            "  Staff D_SAC works shift Night\n",
            "  Staff A_AC1 does not work\n",
            "  Staff A_AC2 works shift Morning\n",
            "  Staff A_AC3 does not work\n",
            "  Staff B_AC1 does not work\n",
            "  Staff B_AC2 does not work\n",
            "  Staff B_AC3 does not work\n",
            "Day 3\n",
            "  Staff A_SAC works shift Night\n",
            "  Staff B_SAC works shift Afternoon\n",
            "  Staff C_SAC does not work\n",
            "  Staff D_SAC works shift Morning\n",
            "  Staff A_AC1 does not work\n",
            "  Staff A_AC2 does not work\n",
            "  Staff A_AC3 does not work\n",
            "  Staff B_AC1 does not work\n",
            "  Staff B_AC2 does not work\n",
            "  Staff B_AC3 does not work\n",
            "Day 4\n",
            "  Staff A_SAC works shift Afternoon\n",
            "  Staff B_SAC does not work\n",
            "  Staff C_SAC works shift Morning\n",
            "  Staff D_SAC does not work\n",
            "  Staff A_AC1 works shift Night\n",
            "  Staff A_AC2 works shift Night\n",
            "  Staff A_AC3 does not work\n",
            "  Staff B_AC1 does not work\n",
            "  Staff B_AC2 does not work\n",
            "  Staff B_AC3 does not work\n",
            "Day 5\n",
            "  Staff A_SAC works shift Afternoon\n",
            "  Staff B_SAC works shift Night\n",
            "  Staff C_SAC does not work\n",
            "  Staff D_SAC works shift Morning\n",
            "  Staff A_AC1 does not work\n",
            "  Staff A_AC2 does not work\n",
            "  Staff A_AC3 does not work\n",
            "  Staff B_AC1 does not work\n",
            "  Staff B_AC2 does not work\n",
            "  Staff B_AC3 does not work\n",
            "Day 6\n",
            "  Staff A_SAC does not work\n",
            "  Staff B_SAC works shift Morning\n",
            "  Staff C_SAC does not work\n",
            "  Staff D_SAC does not work\n",
            "  Staff A_AC1 does not work\n",
            "  Staff A_AC2 works shift Night\n",
            "  Staff A_AC3 does not work\n",
            "  Staff B_AC1 does not work\n",
            "  Staff B_AC2 does not work\n",
            "  Staff B_AC3 works shift Afternoon\n",
            "Stop search after 5 solutions\n"
          ]
        },
        {
          "output_type": "execute_result",
          "data": {
            "text/plain": [
              "2"
            ]
          },
          "metadata": {},
          "execution_count": 22
        }
      ]
    }
  ]
}